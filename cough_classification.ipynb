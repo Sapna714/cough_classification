{
 "cells": [
  {
   "cell_type": "code",
   "execution_count": null,
   "metadata": {},
   "outputs": [],
   "source": [
    "#Research references:\n",
    "#1) Dry/wet cough classification: https://link.springer.com/article/10.1007/s10439-013-0741-6\n",
    "#2) Pneumonia classification: https://ieeexplore.ieee.org/stamp/stamp.jsp?arnumber=6987276\n",
    "#3) https://espace.library.uq.edu.au/data/UQ_344963/s41943203_phd_submission.pdf?Expires=1585601065&Key-Pair-Id=APKAJKNBJ4MJBJNC6NLQ&Signature=Lnpf6wT8rkozSh9av7U9nGuC7WAH6KuI2Cj3Y7G366gkGlh8D-Ie1Kc~TyBAUu~uMsVltleJcSv3p6TCm6HdFnhpyoTgLcYh6eFfvQwIUqbk1Bf4JZldgB~BDKUOwY1G0pA-HoKjvIAu3avO98SMO35upakm9OEBByd4nC9aXsjKRThd6bTpq1qIuuD9gh1l5FaM6hNRB0c2lCf4Q3adx7C3FW0NMwdWhcuF45A9f~dO3zTWWSQamoo5Otc-PHMMt96TetNcML~jy9ghgJeCPY6DJLUIwQAt03fENBluS~TjTJ17WD~n51xiRofb94fEJHoRHh0d-430LLwr7BX4IA__"
   ]
  },
  {
   "cell_type": "code",
   "execution_count": null,
   "metadata": {},
   "outputs": [],
   "source": [
    "import numpy as np\n",
    "import os\n",
    "#import pywt #wavelets\n",
    "from pydub import AudioSegment\n",
    "from pydub.silence import split_on_silence\n",
    "from pydub.utils import mediainfo\n",
    "from pydub.playback import play\n",
    "import matplotlib.pyplot as plt\n",
    "#import seaborn as sn\n",
    "import python_speech_features as spe_feats\n",
    "import pandas as pd\n",
    "from scipy.stats import kurtosis, skew\n",
    "from scipy.signal import lfilter\n",
    "import librosa\n",
    "#import pysptk\n",
    "import math\n",
    "import sys\n",
    "\n",
    "#settings\n",
    "import config"
   ]
  },
  {
   "cell_type": "markdown",
   "metadata": {},
   "source": [
    "## Reading recordings"
   ]
  },
  {
   "cell_type": "code",
   "execution_count": null,
   "metadata": {},
   "outputs": [],
   "source": [
    "all_s=[]\n",
    "all_label=[]\n",
    "all_id=[]\n",
    "all_fs=[]"
   ]
  },
  {
   "cell_type": "code",
   "execution_count": null,
   "metadata": {},
   "outputs": [],
   "source": [
    "#Read wav data set\n",
    "\n",
    "if config.featExtr_skip is False:\n",
    "    print(\"Readings wavs...\")\n",
    "\n",
    "    #only list files in FOLDER_PATH directory\n",
    "    wav_files = [f for f in os.listdir(config.FOLDER_PATH) if os.path.isfile(os.path.join(config.FOLDER_PATH, f))]\n",
    "    for file_name in wav_files:\n",
    "    \n",
    "        fname_noExt = os.path.splitext(file_name)[0] #file name without extension\n",
    "    \n",
    "        #full path file name\n",
    "        full_fname = config.FOLDER_PATH+file_name\n",
    "        #print(full_fname)\n",
    "    \n",
    "        # load audio\n",
    "        s = AudioSegment.from_wav(full_fname)\n",
    "        #print(full_fname)\n",
    "        all_s.append(s)\n",
    "        #sampling rate:\n",
    "        info = mediainfo(full_fname)\n",
    "        fs = float(info['sample_rate'])\n",
    "        all_fs.append(fs)\n",
    "    \n",
    "        #get ID of recording\n",
    "        ID = fname_noExt.split('-')[-2] #for the current type of naming\n",
    "        #print(file_name)\n",
    "        #print(ID)\n",
    "        all_id.append(ID)\n",
    "    \n",
    "        #get label\n",
    "        label = fname_noExt.split('-')[-1] #for the current type of naming\n",
    "        #print(label)\n",
    "        all_label.append(label)"
   ]
  },
  {
   "cell_type": "markdown",
   "metadata": {},
   "source": [
    "Listening to some of the audios"
   ]
  },
  {
   "cell_type": "code",
   "execution_count": null,
   "metadata": {},
   "outputs": [],
   "source": [
    "if config.featExtr_skip is False:\n",
    "    np.where(np.array(all_label)=='Dry')"
   ]
  },
  {
   "cell_type": "code",
   "execution_count": null,
   "metadata": {},
   "outputs": [],
   "source": [
    "if config.featExtr_skip is False:\n",
    "    np.where(np.array(all_label)=='Wet')"
   ]
  },
  {
   "cell_type": "code",
   "execution_count": null,
   "metadata": {},
   "outputs": [],
   "source": [
    "if config.featExtr_skip is False:\n",
    "    s=all_s[15]\n",
    "    s"
   ]
  },
  {
   "cell_type": "markdown",
   "metadata": {},
   "source": [
    "## Feature extraction"
   ]
  },
  {
   "cell_type": "code",
   "execution_count": null,
   "metadata": {},
   "outputs": [],
   "source": [
    "import featureExtractionFunctions as featExtrLib\n",
    "\n",
    "if config.featExtr_skip is False:\n",
    "\n",
    "    feats = featExtrLib.feature_extraction_Step(all_s,all_id,all_label)\n",
    "    \n",
    "       "
   ]
  },
  {
   "cell_type": "markdown",
   "metadata": {},
   "source": [
    "## Load  (or store) features "
   ]
  },
  {
   "cell_type": "code",
   "execution_count": null,
   "metadata": {},
   "outputs": [],
   "source": [
    "feats_fname = 'feats_df.pkl'\n",
    "\n",
    "if config.featExtr_skip is False:\n",
    "    #Store feature df\n",
    "    feats.to_pickle(feats_fname)\n",
    "else:\n",
    "    #Load feature df\n",
    "    feats = pd.read_pickle(feats_fname)"
   ]
  },
  {
   "cell_type": "code",
   "execution_count": 131,
   "metadata": {},
   "outputs": [],
   "source": [
    " feats = pd.read_pickle(feats_fname)"
   ]
  },
  {
   "cell_type": "markdown",
   "metadata": {},
   "source": [
    "## Pre-processing of features"
   ]
  },
  {
   "cell_type": "code",
   "execution_count": 132,
   "metadata": {},
   "outputs": [],
   "source": [
    "feats2 = featExtrLib.processingNaNvalues(feats)"
   ]
  },
  {
   "cell_type": "code",
   "execution_count": 133,
   "metadata": {},
   "outputs": [],
   "source": [
    "label_dict = featExtrLib.createLabelDict_addLabel2df(feats2)\n",
    "mean_std_feats = featExtrLib.frame_mean_std_chunk_modeling (feats2,label_dict)"
   ]
  },
  {
   "cell_type": "markdown",
   "metadata": {},
   "source": [
    "## Model training"
   ]
  },
  {
   "cell_type": "code",
   "execution_count": 265,
   "metadata": {},
   "outputs": [],
   "source": [
    "from sklearn.preprocessing import StandardScaler\n",
    "X_train = mean_std_feats.iloc[:,8:21]\n",
    "y_train =  mean_std_feats['label'].copy()"
   ]
  },
  {
   "cell_type": "code",
   "execution_count": null,
   "metadata": {},
   "outputs": [],
   "source": [
    "\n",
    "ID_train = mean_std_feats['Id']\n",
    "ID_list = ID_train.drop_duplicates().tolist()"
   ]
  },
  {
   "cell_type": "code",
   "execution_count": null,
   "metadata": {},
   "outputs": [],
   "source": [
    "ID_train = mean_std_feats['Id']\n",
    "ID_list = ID_train.drop_duplicates().tolist()\n",
    "\n",
    "print(len(ID_list))"
   ]
  },
  {
   "cell_type": "code",
   "execution_count": 268,
   "metadata": {},
   "outputs": [],
   "source": [
    "#Model training using Neural network"
   ]
  },
  {
   "cell_type": "code",
   "execution_count": null,
   "metadata": {},
   "outputs": [],
   "source": [
    "\n",
    "\n",
    "ID_train = mean_std_feats['Id']\n",
    "ID_list = ID_train.drop_duplicates().tolist()\n",
    "\n",
    "ID_train.size\n",
    "#ID_list.size\n",
    "X_train.head(1)\n",
    "\n",
    "for i in range(0,len(ID_list)):\n",
    "\n",
    "        idnow = ID_list[i]\n",
    "        ID_train_list = ID_train.to_list()\n",
    "        val_index = [i for i, x in enumerate(ID_train_list) if x == idnow]\n",
    "        train_index = [i for i, x in enumerate(ID_train_list) if x != idnow]\n",
    "\n",
    "        X_train1, X_val1 = X_train.iloc[train_index], X_train.iloc[val_index]\n",
    "        y_train1, y_val1 = y_train.iloc[train_index], y_train.iloc[val_index]\n",
    "   \n",
    "\n",
    "        #normalize train set\n",
    "        scaler = StandardScaler()\n",
    "        scaler.fit(X_train1)\n",
    "        X_trainNorm1 = scaler.transform(X_train1.values)\n",
    "        X_valNorm1 = scaler.transform(X_val1.values)\n",
    "        "
   ]
  },
  {
   "cell_type": "code",
   "execution_count": 275,
   "metadata": {},
   "outputs": [
    {
     "name": "stdout",
     "output_type": "stream",
     "text": [
      "(1325,)\n",
      "(1325, 13)\n"
     ]
    }
   ],
   "source": [
    "from sklearn.preprocessing import LabelEncoder\n",
    "from keras.utils import to_categorical\n",
    "from keras.models import Sequential\n",
    "from keras.layers import Dense, Activation, Dropout\n",
    "from keras.callbacks import ModelCheckpoint \n",
    "from datetime import datetime \n",
    "from sklearn.model_selection import train_test_split\n",
    "import keras.initializers as init \n",
    "\n",
    "X = X_trainNorm1\n",
    "X.shape\n",
    "number=LabelEncoder()\n",
    "y = number.fit_transform(y_train1)\n",
    "x_train = X\n",
    "y_train = y\n",
    "x_test = X_valNorm1 \n",
    "y_test = number.fit_transform(y_val1)\n",
    "print(y.shape)\n",
    "print(X.shape)\n",
    "\n",
    "num_labels = 2\n",
    "filter_size = 2\n",
    "\n",
    "def build_model_graph():\n",
    "    # define the keras model\n",
    "    model = Sequential()\n",
    "    model.add(Dense(4, input_dim=13, activation='relu'))\n",
    "    #model.add(Dense(1, activation='relu', kernel_initializer=init.glorot_uniform(seed=66)))\n",
    "    model.add(Dense(1, activation='relu', kernel_initializer=init.VarianceScaling(scale=1.0, mode='fan_in', distribution='normal', seed=None)))\n",
    "    #keras.initializers.Zeros()\n",
    "    #model.add(Dense(1, activation='sigmoid'))\n",
    "    #model.compile(loss='binary_crossentropy', optimizer='adam')\n",
    "   # model.add(Dense(12, input_dim=13, activation='relu'))\n",
    "    #model.add(Dense(1, activation='sigmoid'))\n",
    "    # Compile the model\n",
    "    model.compile(loss='binary_crossentropy', metrics=['accuracy'], optimizer='adam')\n",
    "    return model\n",
    "\n",
    "model = build_model_graph()\n",
    "\n",
    "\n",
    "# Display model architecture summary \n",
    "#model.summary()\n",
    "\n",
    "#x_train, x_test, y_train, y_test = train_test_split(X, y, test_size=0.10, random_state = 127)\n",
    "\n",
    "#print(x_train[1])\n",
    "\n",
    "#print(x_test[1])\n",
    "\n",
    "#print(y_train[1:5])\n",
    "\n",
    "#print(y_test[1:5])\n"
   ]
  },
  {
   "cell_type": "code",
   "execution_count": null,
   "metadata": {},
   "outputs": [],
   "source": [
    "# Get mean accuracy\n",
    "accuracy=[]\n",
    "for i in range(0,10):\n",
    "    model = build_model_graph()\n",
    "    num_epochs = 115\n",
    "    num_batch_size = 30\n",
    "    model.fit(x_train, y_train, batch_size=num_batch_size, epochs=num_epochs, validation_data=(x_test, y_test), verbose=0)\n",
    "    score = model.evaluate(x_test, y_test, verbose=0) \n",
    "    accuracy.append(score[1])\n",
    "    print(\"Training Accuracy: {0:.2%}\".format(score[1]))\n",
    "\n",
    "mean_accuracy = np.mean(accuracy)\n",
    "\n",
    "print(\"Accuracy: {0:.2%}\".format(mean_accuracy))   "
   ]
  },
  {
   "cell_type": "code",
   "execution_count": null,
   "metadata": {},
   "outputs": [],
   "source": [
    "import matplotlib.pyplot as pyplot\n",
    "pyplot.plot(hist.history['loss'], label='train')\n",
    "pyplot.plot(hist.history['val_loss'], label='test')\n",
    "pyplot.show()\n"
   ]
  }
 ],
 "metadata": {
  "kernelspec": {
   "display_name": "Python 3",
   "language": "python",
   "name": "python3"
  },
  "language_info": {
   "codemirror_mode": {
    "name": "ipython",
    "version": 3
   },
   "file_extension": ".py",
   "mimetype": "text/x-python",
   "name": "python",
   "nbconvert_exporter": "python",
   "pygments_lexer": "ipython3",
   "version": "3.7.4"
  }
 },
 "nbformat": 4,
 "nbformat_minor": 4
}
